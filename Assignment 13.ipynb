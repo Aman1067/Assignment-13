{
 "cells": [
  {
   "cell_type": "markdown",
   "id": "98f4a435",
   "metadata": {},
   "source": [
    "1. What advantages do Excel spreadsheets have over CSV spreadsheets?\n",
    "\n",
    "CSV files are simple and easy to work with, Excel spreadsheets offer more advanced features and capabilities that can be useful for more complex data analysis and reporting tasks."
   ]
  },
  {
   "cell_type": "markdown",
   "id": "8fc9565c",
   "metadata": {},
   "source": [
    "2. What do you pass to csv.reader() and csv.writer() to create reader and writer objects?"
   ]
  },
  {
   "cell_type": "code",
   "execution_count": null,
   "id": "02fa3092",
   "metadata": {},
   "outputs": [],
   "source": [
    "import csv\n",
    "with open('text.csv', 'r') as f:\n",
    "    reader = csv.reader(f)\n",
    "    for row in reader:\n",
    "        print(row)"
   ]
  },
  {
   "cell_type": "code",
   "execution_count": null,
   "id": "44488d1d",
   "metadata": {},
   "outputs": [],
   "source": [
    "import csv\n",
    "with open('my_file.csv', 'w', newline='') as f:\n",
    "    writer = csv.writer(f, delimiter=',')\n",
    "writer.writerow(['Name', 'Age', 'Email'])\n",
    "writer.writerow(['John', 25, 'john@example.com'])\n",
    "writer.writerow(['Alice', 30, 'alice@example.com'])\n"
   ]
  },
  {
   "cell_type": "markdown",
   "id": "5a8f6b1b",
   "metadata": {},
   "source": [
    "3. What modes do File objects for reader and writer objects need to be opened in?\n",
    "\n",
    "For csv.reader() 'r' opens the file in read mode which is necessary for reading data from the CSV file.\n",
    "For csv.writer() 'w' opens the file in write mode which is necessary for writing data to the CSV file."
   ]
  },
  {
   "cell_type": "markdown",
   "id": "b9d23fe5",
   "metadata": {},
   "source": [
    "4. What method takes a list argument and writes it to a CSV file?\n",
    "\n",
    "To write data to a CSV file using the csv module in Python, we can use the csv.writer() function to create a writer object and then use its writerow() method to write rows of data to the file."
   ]
  },
  {
   "cell_type": "code",
   "execution_count": null,
   "id": "655bfc1d",
   "metadata": {},
   "outputs": [],
   "source": [
    "import csv\n",
    "with open('data.csv', 'w', newline='') as file:\n",
    "    writer = csv.writer(file)\n",
    "    data = [['Name', 'Age', 'Email'],\n",
    "            ['John', 25, 'john@example.com'],\n",
    "            ['Alice', 30, 'alice@example.com']]\n",
    "    writer.writerows(data)"
   ]
  },
  {
   "cell_type": "markdown",
   "id": "c6b1cef7",
   "metadata": {},
   "source": [
    "5. What do the keyword arguments delimiter and line terminator do?\n",
    "\n",
    "delimiter specifies the character used to separate fields in the CSV file while line terminator specifies the character used to terminate lines in the CSV file. "
   ]
  },
  {
   "cell_type": "markdown",
   "id": "25f3681f",
   "metadata": {},
   "source": [
    "6. What function takes a string of JSON data and returns a Python data structure?\n",
    "\n",
    "The json.loads() function is used to convert a JSON-formatted string into a Python data structure. The function takes a string as an argument and returns a Python data structure typically a dictionary or a list that represents the data encoded in the JSON string."
   ]
  },
  {
   "cell_type": "markdown",
   "id": "b27d5b22",
   "metadata": {},
   "source": [
    "7. What function takes a Python data structure and returns a string of JSON data?\n",
    "\n",
    "The json.dumps() function is used to convert a Python data structure typically a dictionary or a list into a JSON-formatted string. The function takes a Python object as an argument and returns a string containing the JSON representation of the data."
   ]
  }
 ],
 "metadata": {
  "kernelspec": {
   "display_name": "Python 3 (ipykernel)",
   "language": "python",
   "name": "python3"
  },
  "language_info": {
   "codemirror_mode": {
    "name": "ipython",
    "version": 3
   },
   "file_extension": ".py",
   "mimetype": "text/x-python",
   "name": "python",
   "nbconvert_exporter": "python",
   "pygments_lexer": "ipython3",
   "version": "3.9.7"
  }
 },
 "nbformat": 4,
 "nbformat_minor": 5
}
